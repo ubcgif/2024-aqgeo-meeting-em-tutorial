{
 "cells": [
  {
   "cell_type": "code",
   "execution_count": 1,
   "id": "72d5f1cc-d4b8-4fa0-a12a-f051e8f264fd",
   "metadata": {},
   "outputs": [],
   "source": [
    "#\n",
    "import warnings \n",
    "warnings.filterwarnings(\"ignore\")"
   ]
  },
  {
   "cell_type": "code",
   "execution_count": 2,
   "id": "5fae44b8-97f1-499c-af6b-f265cd6c0aba",
   "metadata": {},
   "outputs": [],
   "source": [
    "import numpy as np\n",
    "import matplotlib.pyplot as plt\n",
    "from matplotlib.colors import LogNorm, Normalize, SymLogNorm\n",
    "import time\n",
    "import ipywidgets\n",
    "\n",
    "import discretize\n",
    "from simpeg.electromagnetics import time_domain as tdem\n",
    "from simpeg import maps\n",
    "\n",
    "# solver \n",
    "from simpeg.utils.solver_utils import get_default_solver"
   ]
  },
  {
   "cell_type": "code",
   "execution_count": 3,
   "id": "c534e35b-925b-426f-b468-fd9144118580",
   "metadata": {},
   "outputs": [
    {
     "data": {
      "text/plain": [
       "pymatsolver.direct.mumps.Mumps"
      ]
     },
     "execution_count": 3,
     "metadata": {},
     "output_type": "execute_result"
    }
   ],
   "source": [
    "Solver = get_default_solver()\n",
    "Solver"
   ]
  },
  {
   "cell_type": "code",
   "execution_count": 4,
   "id": "37af23a0-fbe9-4b9d-b9e5-9193f0bcc327",
   "metadata": {},
   "outputs": [
    {
     "name": "stdout",
     "output_type": "stream",
     "text": [
      "target conductances: 20000.0\n"
     ]
    }
   ],
   "source": [
    "# conductivity values\n",
    "rho_back = 1000\n",
    "\n",
    "sigma_target = 1e3\n",
    "sigma_air = 1e-8\n",
    "sigma_back = 1/rho_back\n",
    "\n",
    "# target geometry\n",
    "target_x = np.r_[-50, 50]\n",
    "target_y = np.r_[-50, 50]\n",
    "target_thickness = 20\n",
    "target_z = -200 + target_thickness/2 * np.r_[-1, 1]\n",
    "\n",
    "target_dip = 30\n",
    "\n",
    "print(f\"target conductances: {sigma_target * target_thickness}\")"
   ]
  },
  {
   "cell_type": "code",
   "execution_count": 5,
   "id": "9abd46ad-f8e1-45a6-906e-256fe6761fd5",
   "metadata": {},
   "outputs": [],
   "source": [
    "# transmitter\n",
    "tx_halfwidth = 45\n",
    "tx_z = 0.5  # put slightly above the surface\n",
    "tx_points = np.array([\n",
    "    [-tx_halfwidth, -tx_halfwidth, tx_z],\n",
    "    [ tx_halfwidth, -tx_halfwidth, tx_z],\n",
    "    [ tx_halfwidth,  tx_halfwidth, tx_z],\n",
    "    [-tx_halfwidth,  tx_halfwidth, tx_z],\n",
    "    [-tx_halfwidth, -tx_halfwidth, tx_z],  # close the loop\n",
    "])\n",
    "\n",
    "# receiver times\n",
    "rx_times = 1e-3 * np.logspace(-1, 1, 30)  # 30 time-channels between 0.1ms and 10ms\n",
    "n_times = len(rx_times)\n",
    "\n",
    "rx_x = np.linspace(-100, 100, 10)\n",
    "rx_y = np.linspace(-100, 100, 10)\n",
    "rx_z = np.r_[0]\n",
    "\n",
    "rx_locs = discretize.utils.ndgrid(rx_x, rx_y, rx_z)"
   ]
  },
  {
   "cell_type": "code",
   "execution_count": 6,
   "id": "2a4e0bf6-2f87-4f34-b96e-d754a98c02ee",
   "metadata": {},
   "outputs": [
    {
     "data": {
      "image/png": "[encoded data removed]",
      "text/plain": [
       "<Figure size 400x400 with 1 Axes>"
      ]
     },
     "metadata": {},
     "output_type": "display_data"
    }
   ],
   "source": [
    "# quick check -- plot out our sources and receivers\n",
    "\n",
    "fig, ax = plt.subplots(1, 1, figsize = (4, 4))\n",
    "ax.plot(tx_points[:, 0], tx_points[:, 1], \"-s\", color=\"k\")\n",
    "ax.plot(rx_locs[:, 0], rx_locs[:, 1], \"ro\", ms=4)\n",
    "\n",
    "ax.set_aspect = 1"
   ]
  },
  {
   "cell_type": "code",
   "execution_count": 7,
   "id": "c58230b5-5612-4088-9efa-c178374cf573",
   "metadata": {},
   "outputs": [],
   "source": [
    "def diffusion_distance(sigma, t):\n",
    "    return 1260 * np.sqrt(t/sigma)"
   ]
  },
  {
   "cell_type": "code",
   "execution_count": 8,
   "id": "7570247e-39d0-441c-8fab-6ebacd53aafa",
   "metadata": {},
   "outputs": [
    {
     "data": {
      "text/plain": [
       "np.float64(0.3984469851812158)"
      ]
     },
     "execution_count": 8,
     "metadata": {},
     "output_type": "execute_result"
    }
   ],
   "source": [
    "# minimum diffusion distance (max conductivity, earliest time) \n",
    "diffusion_distance(sigma_target, rx_times.min())"
   ]
  },
  {
   "cell_type": "code",
   "execution_count": 9,
   "id": "1409a223-f89b-4441-b3de-80416b97ccf5",
   "metadata": {},
   "outputs": [
    {
     "data": {
      "text/plain": [
       "np.float64(3984.469851812158)"
      ]
     },
     "execution_count": 9,
     "metadata": {},
     "output_type": "execute_result"
    }
   ],
   "source": [
    "# maximum diffusion distance (background conductivity, latest time)\n",
    "diffusion_distance(sigma_back, rx_times.max())"
   ]
  },
  {
   "cell_type": "code",
   "execution_count": 80,
   "id": "4f38022d-cac4-40cd-a312-cb0d38c2de20",
   "metadata": {},
   "outputs": [
    {
     "data": {
      "text/plain": [
       "53176"
      ]
     },
     "execution_count": 80,
     "metadata": {},
     "output_type": "execute_result"
    }
   ],
   "source": [
    "cell_size = 10\n",
    "padding_factor = 1.3\n",
    "\n",
    "n_cells_x = int(np.max(rx_x) / cell_size)\n",
    "n_cells_z = int((np.max(np.abs(target_z)) + np.max(target_thickness)/2) / cell_size)\n",
    "n_padding_x = 12\n",
    "n_padding_z = 12\n",
    "\n",
    "hx = [\n",
    "    (cell_size, n_padding_x, -padding_factor), \n",
    "    (cell_size, n_cells_x), \n",
    "    (cell_size, n_padding_z, padding_factor)\n",
    "]\n",
    "\n",
    "hz = [\n",
    "    (cell_size, n_padding_z, -padding_factor), \n",
    "    (cell_size, n_cells_z), \n",
    "    (cell_size, n_padding_z, padding_factor)\n",
    "]\n",
    "\n",
    "mesh = discretize.TensorMesh([hx, hx, hz], origin=\"CC0\")\n",
    "mesh.origin = mesh.origin - np.r_[0, 0, mesh.h[2][:n_padding_z+n_cells_z].sum()]\n",
    "mesh.n_cells\n"
   ]
  },
  {
   "cell_type": "code",
   "execution_count": 84,
   "id": "ff9ee1e7-b95c-4ff8-8282-576c34d4ba58",
   "metadata": {},
   "outputs": [
    {
     "data": {
      "text/html": [
       "<table>\n",
       "  <tr>\n",
       "    <td style='font-weight: bold; font-size: 1.2em; text-align: center;' colspan='3'>TensorMesh</td>\n",
       "    <td style='font-size: 1.2em; text-align: center;'colspan='4'>53,176 cells</td>\n",
       "  </tr>\n",
       "  <tr>\n",
       "    <th></th>\n",
       "    <th></th>\n",
       "    <th colspan='2' style='padding: 5px 20px 5px 20px;'>MESH EXTENT</th>\n",
       "    <th colspan='2' style='padding: 5px 20px 5px 20px;'>CELL WIDTH</th>\n",
       "    <th style='padding: 5px 20px 5px 20px;'>FACTOR</th>\n",
       "  </tr>\n",
       "  <tr>\n",
       "    <th style='padding: 5px 20px 5px 20px;'>dir</th>\n",
       "    <th style='padding: 5px 20px 5px 20px;'>nC</th>\n",
       "    <th style='padding: 5px 20px 5px 20px;'>min</th>\n",
       "    <th style='padding: 5px 20px 5px 20px;'>max</th>\n",
       "    <th style='padding: 5px 20px 5px 20px;'>min</th>\n",
       "    <th style='padding: 5px 20px 5px 20px;'>max</th>\n",
       "    <th style='padding: 5px 20px 5px 20px;'>max</th>\n",
       "  </tr>\n",
       "  <tr>\n",
       "    <td style='padding: 5px 20px 5px 20px;'>x</td>\n",
       "    <td style='padding: 5px 20px 5px 20px;'>34</td>\n",
       "    <td style='padding: 5px 20px 5px 20px;'>-1,016.25</td>\n",
       "    <td style='padding: 5px 20px 5px 20px;'>1,016.25</td>\n",
       "    <td style='padding: 5px 20px 5px 20px;'>10.00</td>\n",
       "    <td style='padding: 5px 20px 5px 20px;'>232.98</td>\n",
       "    <td style='padding: 5px 20px 5px 20px;'>1.30</td>\n",
       "  </tr>\n",
       "  <tr>\n",
       "    <td style='padding: 5px 20px 5px 20px;'>y</td>\n",
       "    <td style='padding: 5px 20px 5px 20px;'>34</td>\n",
       "    <td style='padding: 5px 20px 5px 20px;'>-1,016.25</td>\n",
       "    <td style='padding: 5px 20px 5px 20px;'>1,016.25</td>\n",
       "    <td style='padding: 5px 20px 5px 20px;'>10.00</td>\n",
       "    <td style='padding: 5px 20px 5px 20px;'>232.98</td>\n",
       "    <td style='padding: 5px 20px 5px 20px;'>1.30</td>\n",
       "  </tr>\n",
       "  <tr>\n",
       "    <td style='padding: 5px 20px 5px 20px;'>z</td>\n",
       "    <td style='padding: 5px 20px 5px 20px;'>46</td>\n",
       "    <td style='padding: 5px 20px 5px 20px;'>-1,186.25</td>\n",
       "    <td style='padding: 5px 20px 5px 20px;'>966.25</td>\n",
       "    <td style='padding: 5px 20px 5px 20px;'>10.00</td>\n",
       "    <td style='padding: 5px 20px 5px 20px;'>232.98</td>\n",
       "    <td style='padding: 5px 20px 5px 20px;'>1.30</td>\n",
       "  </tr>\n",
       "</table>\n"
      ],
      "text/plain": [
       "\n",
       "  TensorMesh: 53,176 cells\n",
       "\n",
       "                      MESH EXTENT             CELL WIDTH      FACTOR\n",
       "  dir    nC        min           max         min       max      max\n",
       "  ---   ---  ---------------------------  ------------------  ------\n",
       "   x     34     -1,016.25      1,016.25     10.00    232.98    1.30\n",
       "   y     34     -1,016.25      1,016.25     10.00    232.98    1.30\n",
       "   z     46     -1,186.25        966.25     10.00    232.98    1.30\n"
      ]
     },
     "execution_count": 84,
     "metadata": {},
     "output_type": "execute_result"
    }
   ],
   "source": [
    "mesh"
   ]
  },
  {
   "cell_type": "code",
   "execution_count": 85,
   "id": "1a3e7cb2-eb4e-43ad-a465-6c8a150dcfac",
   "metadata": {},
   "outputs": [],
   "source": [
    "def dipping_target_indices(mesh, target_x, target_y, target_z, dip): \n",
    "    \"\"\"\n",
    "    add a dipping target to the model. For now assumes the target dips in the x-direction\n",
    "    \"\"\"\n",
    "    x_center = np.mean(target_x)\n",
    "    slope = np.tan(-dip*180/np.pi)\n",
    "    \n",
    "    z_bottom = (mesh.cell_centers[:, 0] - x_center) * slope + target_z.min()\n",
    "    z_top = (mesh.cell_centers[:, 0] - x_center) * slope + target_z.max()\n",
    "\n",
    "    return(\n",
    "        (mesh.cell_centers[:, 0] >= target_x.min()) &\n",
    "        (mesh.cell_centers[:, 0] <= target_x.max()) &\n",
    "        (mesh.cell_centers[:, 1] >= target_y.min()) &\n",
    "        (mesh.cell_centers[:, 1] <= target_y.max()) &\n",
    "        (mesh.cell_centers[:, 2] >= z_bottom) &\n",
    "        (mesh.cell_centers[:, 2] <= z_top) \n",
    "    )"
   ]
  },
  {
   "cell_type": "code",
   "execution_count": 89,
   "id": "3c79d28d-6523-4e9c-b6ba-853a9b705c54",
   "metadata": {},
   "outputs": [],
   "source": [
    "model_background = sigma_air * np.ones(mesh.n_cells)\n",
    "model_background[mesh.cell_centers[:, 2] < 0] = sigma_back\n",
    "\n",
    "model_target = model_background.copy()\n",
    "inds_target = dipping_target_indices(mesh, target_x, target_y, target_z, target_dip)\n",
    "model_target[inds_target] = sigma_target\n",
    "\n",
    "models = {\n",
    "    \"background\": model_background,\n",
    "    \"target\": model_target\n",
    "}"
   ]
  },
  {
   "cell_type": "code",
   "execution_count": 90,
   "id": "e44dd52e-e0dc-40aa-9ca5-8e0e51d3ec40",
   "metadata": {},
   "outputs": [
    {
     "data": {
      "text/plain": [
       "(-500.0, 50.0)"
      ]
     },
     "execution_count": 90,
     "metadata": {},
     "output_type": "execute_result"
    },
    {
     "data": {
      "image/png": "[encoded data removed]",
      "text/plain": [
       "<Figure size 640x480 with 2 Axes>"
      ]
     },
     "metadata": {},
     "output_type": "display_data"
    }
   ],
   "source": [
    "fig, ax = plt.subplots(1, 1) \n",
    "\n",
    "plt.colorbar(\n",
    "    mesh.plot_slice(\n",
    "        models[\"target\"], \n",
    "        grid=True, \n",
    "        normal=\"y\",\n",
    "        pcolor_opts={\"norm\":LogNorm()},\n",
    "        ax=ax)[0], \n",
    "    ax=ax\n",
    ")\n",
    "\n",
    "ax.set_xlim(np.r_[-250, 250])\n",
    "ax.set_ylim(np.r_[-500, 50])"
   ]
  },
  {
   "cell_type": "markdown",
   "id": "b4c89060-43a2-4c3a-984a-fdd29fa25481",
   "metadata": {},
   "source": [
    "# Survey"
   ]
  },
  {
   "cell_type": "code",
   "execution_count": 91,
   "id": "4a533308-7628-43bb-86a5-fc7b9dc8daad",
   "metadata": {},
   "outputs": [],
   "source": [
    "dbdt_receivers = [\n",
    "    tdem.receivers.PointMagneticFluxTimeDerivative(\n",
    "        locations=rx_locs, times=rx_times, orientation=orientation\n",
    "    )\n",
    "    for orientation in [\"x\", \"y\", \"z\"]\n",
    "]"
   ]
  },
  {
   "cell_type": "code",
   "execution_count": 92,
   "id": "d74775e9-e4f0-4473-9b85-3ea88f5b2024",
   "metadata": {},
   "outputs": [],
   "source": [
    "waveform=tdem.sources.StepOffWaveform()\n",
    "src = tdem.sources.LineCurrent(\n",
    "    receiver_list=dbdt_receivers, location=tx_points, \n",
    "    waveform=waveform, srcType=\"inductive\"\n",
    ")\n",
    "\n",
    "survey = tdem.Survey([src])"
   ]
  },
  {
   "cell_type": "code",
   "execution_count": 93,
   "id": "adc4e2ba-4b21-49d1-a105-d10ebfc02e52",
   "metadata": {},
   "outputs": [],
   "source": [
    "nsteps = 20\n",
    "time_steps = [\n",
    "    (1e-5, nsteps), (3e-5, nsteps), (1e-4, nsteps), (3e-4, nsteps+10)\n",
    "]"
   ]
  },
  {
   "cell_type": "code",
   "execution_count": 94,
   "id": "520456da-334c-4a2d-97af-c2edd565b7de",
   "metadata": {},
   "outputs": [],
   "source": [
    "simulation = tdem.simulation.Simulation3DElectricField(\n",
    "    mesh=mesh, survey=survey, time_steps=time_steps, solver=Solver,\n",
    "    sigmaMap=maps.IdentityMap(mesh)\n",
    ")"
   ]
  },
  {
   "cell_type": "code",
   "execution_count": 95,
   "id": "337fdcf0-c0c1-4b5e-8cea-1893eee9a6c8",
   "metadata": {},
   "outputs": [
    {
     "name": "stdout",
     "output_type": "stream",
     "text": [
      "done background...  4.23e+01s\n",
      "done target...  4.15e+01s\n"
     ]
    }
   ],
   "source": [
    "fields = {}\n",
    "dpred = {}\n",
    "\n",
    "for key, val in models.items():\n",
    "    t = time.time()\n",
    "    fields[key] = simulation.fields(val)\n",
    "    dpred[key] = simulation.make_synthetic_data(val, f=fields[key])\n",
    "    print(f\"done {key}... {time.time() - t: 1.2e}s\")"
   ]
  },
  {
   "cell_type": "code",
   "execution_count": 96,
   "id": "1e19ea35-381d-4097-9cf8-b7dced72e14f",
   "metadata": {},
   "outputs": [
    {
     "ename": "SyntaxError",
     "evalue": "invalid syntax (3923682658.py, line 8)",
     "output_type": "error",
     "traceback": [
      "\u001b[0;36m  Cell \u001b[0;32mIn[96], line 8\u001b[0;36m\u001b[0m\n\u001b[0;31m    [tind*len(rx_locs):(tind+1)*len(rx_locs)]\u001b[0m\n\u001b[0m                      ^\u001b[0m\n\u001b[0;31mSyntaxError\u001b[0m\u001b[0;31m:\u001b[0m invalid syntax\n"
     ]
    }
   ],
   "source": [
    "def plot_2D_data(plot_key, tind, subtract=None, ax=None):\n",
    "    if ax is None: \n",
    "        fig, ax = plt.subplots(1, 3, figsize=(10, 2.5))\n",
    "        \n",
    "    for i, rx in enumerate(dbdt_receivers):\n",
    "        src = survey.source_list[0]\n",
    "        dpred_plot = dpred[plot_key][src, rx].reshape(len(rx_locs), len(rx_times), order=\"F\")\n",
    "        [tind*len(rx_locs):(tind+1)*len(rx_locs)]\n",
    "\n",
    "        if subtract is not None: \n",
    "            dpred_background = dpred[subtract][src, rx].reshape(len(rx_locs), len(rx_times), order=\"F\")\n",
    "            dpred_plot = dpred_plot[:, tind] - \n",
    "        plt.colorbar(\n",
    "            ax[i].scatter(\n",
    "                rx_locs[:, 0], rx_locs[:, 1], \n",
    "                c=dpred_plot, cmap=\"Spectral_r\",\n",
    "                s=30\n",
    "            ), ax=ax[i]\n",
    "        )\n",
    "        ax[i].set_aspect(1)\n",
    "\n",
    "    if subtract is None: \n",
    "        plot_label = plot_key\n",
    "    else:\n",
    "        plot_label = f\"{plot_key} - {subtract}\"\n",
    "        \n",
    "    ax[1].set_title(f\"{plot_label}, db/dt, \\n t={rx_times[tind]*1e3:1.1e}ms \\n\")\n",
    "\n",
    "    return ax"
   ]
  },
  {
   "cell_type": "code",
   "execution_count": null,
   "id": "9ccac8ba-cca2-4913-bcc6-38e89fa414b2",
   "metadata": {},
   "outputs": [],
   "source": [
    "tind_plot = 0 #[0, 10, 20, 29]\n",
    "\n",
    "fig, ax = plt.subplots(2, 3, figsize=(10, 5))\n",
    " \n",
    "plot_2D_data(\"target\", tind_plot, ax=ax[0, :])\n",
    "plot_2D_data(\"target\", tind_plot, subtract=\"background\", ax=ax[1, :])\n",
    "\n",
    "plt.tight_layout()"
   ]
  },
  {
   "cell_type": "code",
   "execution_count": null,
   "id": "8e83b164-1524-4431-8224-2d78fd87f192",
   "metadata": {},
   "outputs": [],
   "source": [
    "val[src, rx].shape"
   ]
  },
  {
   "cell_type": "code",
   "execution_count": null,
   "id": "33ea6f74-e03b-41ac-9e91-9c23a2ba3e11",
   "metadata": {},
   "outputs": [],
   "source": [
    "# look at data for a single point\n",
    "location_plot = np.r_[0, 0, 0]\n",
    "\n",
    "ind_plot = np.argmin(np.linalg.norm(rx_locs - location_plot, axis=1))\n",
    "\n",
    "fig, ax = plt.subplots(1, 1) \n",
    "\n",
    "for key, val in dpred.items():\n",
    "    src = val.survey.source_list[0]\n",
    "    rx = src.receiver_list[-1]  # grab the z-component\n",
    "    dpred_plot = val[src, rx].reshape(len(rx_locs), len(rx_times), order=\"F\")\n",
    "    ax.loglog(rx_times, -dpred_plot[ind_plot, :], label=key)"
   ]
  },
  {
   "cell_type": "code",
   "execution_count": null,
   "id": "1aa5353b-7a2f-4bee-b755-28b6752f1406",
   "metadata": {},
   "outputs": [],
   "source": [
    "def plot_current_density(\n",
    "    key, ti, ax=None, xlim=400*np.r_[-1, 1], zlim=np.r_[-500, 80],\n",
    "    colorbar=False, ylabels=True, vmax=None\n",
    "):\n",
    "    if ax is None: \n",
    "        fig, ax = plt.subplots(1, 1, figsize=(4, 4))\n",
    "    jplt = mesh.average_edge_to_cell_vector * np.squeeze(fields[key][:, \"j\", ti])\n",
    "    \n",
    "    if vmax is not None: \n",
    "        pcolor_opts={\"norm\":Normalize(vmin=-vmax, vmax=vmax), \"cmap\":\"coolwarm\"}\n",
    "    else: \n",
    "        pcolor_opts = {\"cmap\":\"coolwarm\"}\n",
    "        \n",
    "    out = mesh.plot_slice(\n",
    "        jplt[mesh.n_cells:mesh.n_cells*2], \n",
    "        ax=ax, \n",
    "        pcolor_opts=pcolor_opts,\n",
    "        normal=\"Y\", \n",
    "    )\n",
    "\n",
    "    \n",
    "    \n",
    "    ax.plot(tx_points[:, 0], tx_points[:, 2], \"ko\", ms=2)\n",
    "    ax.set_xlim(xlim)\n",
    "    ax.set_ylim(zlim)\n",
    "    ax.set_aspect(1)\n",
    "    \n",
    "    if colorbar is True: \n",
    "        cb = plt.colorbar(out[0], ax=ax, orientation=\"horizontal\")\n",
    "        cb.set_label(\"current density\")\n",
    "    \n",
    "    if ylabels is False: \n",
    "        ax.set_ylabel(\"\")\n",
    "        ax.set_yticklabels(\"\")\n",
    "\n",
    "    return ax"
   ]
  },
  {
   "cell_type": "code",
   "execution_count": null,
   "id": "7c0e68e5-b38b-4eff-a330-c88bca991d53",
   "metadata": {},
   "outputs": [],
   "source": [
    "plot_current_density(\"target\", 2, colorbar=True, vmax=3e-5)"
   ]
  },
  {
   "cell_type": "code",
   "execution_count": null,
   "id": "87a22387-f350-4e4f-b4f2-ca1ac9c71812",
   "metadata": {},
   "outputs": [],
   "source": [
    "def plot_dbdt(\n",
    "    key, ti, ax=None, xlim=400*np.r_[-1, 1], zlim=np.r_[-500, 80],\n",
    "    colorbar=False, ylabels=True, vmax=1e-3, vmin=1e-13\n",
    "):\n",
    "    if ax is None: \n",
    "        fig, ax = plt.subplots(1, 1, figsize=(4, 4))\n",
    "    dbdtplt = mesh.average_face_to_cell_vector * np.squeeze(fields[key][:, \"dbdt\", ti])\n",
    "    out = mesh.plot_slice(\n",
    "        dbdtplt.reshape(mesh.n_cells, 3, order=\"F\"), \n",
    "        \"CCv\", view=\"vec\", \n",
    "        ax=ax, \n",
    "        pcolor_opts={\"norm\":LogNorm(vmin=vmin, vmax=vmax)},\n",
    "        # range_x=xlim, \n",
    "        # range_y=zlim,\n",
    "        stream_threshold=vmin,\n",
    "        normal=\"y\"\n",
    "    )\n",
    "    # ax.plot(np.r_[0], tx_height, \"ko\", ms=2)\n",
    "    ax.set_xlim(xlim)\n",
    "    ax.set_ylim(zlim)\n",
    "    ax.set_aspect(1)\n",
    "    if ylabels is False: \n",
    "        ax.set_ylabel(\"\")\n",
    "        ax.set_yticklabels(\"\")\n",
    "    if colorbar is True: \n",
    "        cb = plt.colorbar(out[0][0], ax=ax, orientation=\"horizontal\")\n",
    "        cb.set_label(\"db/dt\")\n",
    "    return ax"
   ]
  },
  {
   "cell_type": "code",
   "execution_count": 163,
   "id": "3cffc310-8300-4a16-937f-d1e908257aa5",
   "metadata": {},
   "outputs": [],
   "source": [
    "key=\"background\"\n",
    "ti = 0\n",
    "dbdtplt = mesh.average_face_to_cell_vector * np.squeeze(fields[key][:, \"dbdt\", ti])"
   ]
  },
  {
   "cell_type": "code",
   "execution_count": 164,
   "id": "36c1342e-3727-4612-a5e4-f41d12de0f28",
   "metadata": {},
   "outputs": [
    {
     "data": {
      "text/plain": [
       "<Axes: title={'center': 'Slice 512, [0, 1, 0] = 2.50'}, xlabel='x', ylabel='z'>"
      ]
     },
     "execution_count": 164,
     "metadata": {},
     "output_type": "execute_result"
    },
    {
     "data": {
      "image/png": "[encoded data removed]",
      "text/plain": [
       "<Figure size 400x400 with 2 Axes>"
      ]
     },
     "metadata": {},
     "output_type": "display_data"
    }
   ],
   "source": [
    "plot_dbdt(\"target\", 10, colorbar=True, xlim=300*np.r_[-1, 1], zlim=np.r_[-300, 10])"
   ]
  },
  {
   "cell_type": "code",
   "execution_count": null,
   "id": "73d5ae6f-32f6-4fa7-8260-c3417806af0c",
   "metadata": {},
   "outputs": [],
   "source": []
  }
 ],
 "metadata": {
  "kernelspec": {
   "display_name": "Python 3 (ipykernel)",
   "language": "python",
   "name": "python3"
  },
  "language_info": {
   "codemirror_mode": {
    "name": "ipython",
    "version": 3
   },
   "file_extension": ".py",
   "mimetype": "text/x-python",
   "name": "python",
   "nbconvert_exporter": "python",
   "pygments_lexer": "ipython3",
   "version": "3.11.10"
  }
 },
 "nbformat": 4,
 "nbformat_minor": 5
}
