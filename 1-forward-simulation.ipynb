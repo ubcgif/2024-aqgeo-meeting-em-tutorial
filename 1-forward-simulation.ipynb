{
 "cells": [
  {
   "cell_type": "code",
   "execution_count": 1,
   "id": "488f43b6-32e8-4213-9020-3b5b06d419e3",
   "metadata": {
    "jupyter": {
     "source_hidden": true
    }
   },
   "outputs": [],
   "source": [
    "#\n",
    "import warnings \n",
    "warnings.filterwarnings(\"ignore\")"
   ]
  },
  {
   "cell_type": "markdown",
   "id": "3369a185-49f5-48e4-8665-73b206a900f5",
   "metadata": {},
   "source": [
    "# Forward simulation of a conductive target on a cylindrical mesh\n",
    "\n",
    "[![License: CC BY 4.0](https://licensebuttons.net/l/by/4.0/80x15.png)](https://creativecommons.org/licenses/by/4.0/)"
   ]
  },
  {
   "cell_type": "code",
   "execution_count": 2,
   "id": "a898d22d-ae71-461b-a331-9e99c29a98aa",
   "metadata": {},
   "outputs": [],
   "source": [
    "import numpy as np\n",
    "import matplotlib.pyplot as plt\n",
    "from matplotlib.colors import LogNorm, Normalize, SymLogNorm\n",
    "import time\n",
    "import ipywidgets\n",
    "\n",
    "import discretize\n",
    "from simpeg.electromagnetics import time_domain as tdem\n",
    "from simpeg import maps\n",
    "\n",
    "# solver \n",
    "from simpeg.utils.solver_utils import get_default_solver"
   ]
  },
  {
   "cell_type": "code",
   "execution_count": 3,
   "id": "8f0050dc-bf03-47a3-80ce-cc9d76f06b6d",
   "metadata": {},
   "outputs": [
    {
     "data": {
      "text/plain": [
       "pymatsolver.direct.mumps.Mumps"
      ]
     },
     "execution_count": 3,
     "metadata": {},
     "output_type": "execute_result"
    }
   ],
   "source": [
    "Solver = get_default_solver()\n",
    "Solver"
   ]
  },
  {
   "cell_type": "markdown",
   "id": "f4bedee2-8727-493c-8cd7-bc833d180fb0",
   "metadata": {},
   "source": [
    "## define survey and model parameters\n",
    "\n",
    "- specifiy conductivity of background, target, air\n",
    "- define target geometry"
   ]
  },
  {
   "cell_type": "code",
   "execution_count": 4,
   "id": "437ca230-68bb-41e4-90b0-36db1da07b2f",
   "metadata": {},
   "outputs": [
    {
     "name": "stdout",
     "output_type": "stream",
     "text": [
      "target conductances: [4.e-02 2.e+01 2.e+02 2.e+03 2.e+04 2.e+05]\n"
     ]
    }
   ],
   "source": [
    "# conductivity values\n",
    "rho_back = 500\n",
    "\n",
    "sigma_target = np.r_[1./rho_back, 1, 10, 100, 1e3, 1e4]\n",
    "sigma_air = 1e-8\n",
    "sigma_back = 1/rho_back\n",
    "\n",
    "# target geometry\n",
    "target_radius = 50\n",
    "target_thickness = 20\n",
    "target_z = -250 + target_thickness/2 * np.r_[-1, 1]\n",
    "\n",
    "print(f\"target conductances: {sigma_target * target_thickness}\")"
   ]
  },
  {
   "cell_type": "markdown",
   "id": "2ba74926-bc25-4dcd-9cc6-1ed723002d40",
   "metadata": {},
   "source": [
    "Survey parameters: \n",
    "- assume central loop system \n",
    "- specify rx times"
   ]
  },
  {
   "cell_type": "code",
   "execution_count": 5,
   "id": "ff8ae6d6-705b-4662-ac1b-a2fd40891e00",
   "metadata": {},
   "outputs": [],
   "source": [
    "# transmitter\n",
    "tx_height = 30\n",
    "tx_radius = 10\n",
    "\n",
    "# receiver times\n",
    "rx_times = 1e-3 * np.logspace(-1, 1, 30)  # 30 time-channels between 0.1ms and 10ms"
   ]
  },
  {
   "cell_type": "code",
   "execution_count": 6,
   "id": "2023d8a9-3d62-433b-bd91-919683dc3555",
   "metadata": {},
   "outputs": [],
   "source": [
    "def diffusion_distance(sigma, t):\n",
    "    \"\"\"\n",
    "    Compute the diffusion distance based on the conductivity and time\n",
    "    \"\"\"\n",
    "    return 1260 * np.sqrt(t/sigma)"
   ]
  },
  {
   "cell_type": "code",
   "execution_count": 7,
   "id": "d5ec9c0b-88eb-47e4-ba1c-6562b6846a40",
   "metadata": {},
   "outputs": [
    {
     "data": {
      "text/plain": [
       "np.float64(0.126)"
      ]
     },
     "execution_count": 7,
     "metadata": {},
     "output_type": "execute_result"
    }
   ],
   "source": [
    "# minimum diffusion distance (max conductivity, earliest time) \n",
    "diffusion_distance(sigma_target.max(), rx_times.min())"
   ]
  },
  {
   "cell_type": "code",
   "execution_count": 8,
   "id": "99e71ae2-6608-449d-b0d6-caa055a091e1",
   "metadata": {},
   "outputs": [
    {
     "data": {
      "text/plain": [
       "np.float64(2817.4456516497353)"
      ]
     },
     "execution_count": 8,
     "metadata": {},
     "output_type": "execute_result"
    }
   ],
   "source": [
    "# maximum diffusion distance (background conductivity, latest time)\n",
    "diffusion_distance(sigma_back, rx_times.max())"
   ]
  },
  {
   "cell_type": "markdown",
   "id": "0b7f9615-e4fa-49e5-bd13-38b13c0d6986",
   "metadata": {},
   "source": [
    "## design a mesh\n",
    "- using the cylindrically symmetric mesh\n",
    "- similar to setting up a tensor mesh (define x, z plane and rotate about axis of symmetry)\n"
   ]
  },
  {
   "cell_type": "code",
   "execution_count": 9,
   "id": "cc8c401d-b0eb-4a79-aca8-5438d37038eb",
   "metadata": {},
   "outputs": [
    {
     "data": {
      "text/plain": [
       "27768"
      ]
     },
     "execution_count": 9,
     "metadata": {},
     "output_type": "execute_result"
    }
   ],
   "source": [
    "cell_size_x = 1\n",
    "cell_size_z = 1\n",
    "padding_factor = 1.3\n",
    "\n",
    "n_cells_x = int(target_radius / cell_size_x)\n",
    "n_cells_z = int((np.max(np.abs(target_z)) + 10) / cell_size_z)\n",
    "n_cells_above_ground = int(tx_height / cell_size_z)\n",
    "n_padding_x = 28\n",
    "n_padding_z = 28\n",
    "\n",
    "mesh = discretize.CylindricalMesh(\n",
    "    [\n",
    "        [(cell_size_x, n_cells_x), (cell_size_x, n_padding_x, padding_factor)], # x-direction \n",
    "        [np.pi*2],  # theta-direction\n",
    "        [(cell_size_z, n_padding_z, -padding_factor), (cell_size_z, n_cells_z+n_cells_above_ground), (cell_size_z, n_padding_z, padding_factor)]  # z-direction\n",
    "    ], \n",
    "    origin = \"000\"\n",
    ")\n",
    "mesh.origin = np.r_[0, 0, -mesh.h[2][:n_padding_z+n_cells_z].sum()]\n",
    "mesh.n_cells"
   ]
  },
  {
   "cell_type": "code",
   "execution_count": 10,
   "id": "a4302d80-3a57-4188-bc7d-1db5b9688189",
   "metadata": {},
   "outputs": [
    {
     "data": {
      "text/plain": [
       "<Axes: xlabel='x', ylabel='z'>"
      ]
     },
     "execution_count": 10,
     "metadata": {},
     "output_type": "execute_result"
    },
    {
     "data": {
      "image/png": "[encoded data removed]",
      "text/plain": [
       "<Figure size 640x480 with 1 Axes>"
      ]
     },
     "metadata": {},
     "output_type": "display_data"
    }
   ],
   "source": [
    "fig, ax = plt.subplots(1, 1)\n",
    "mesh.plot_grid(ax=ax)"
   ]
  },
  {
   "cell_type": "markdown",
   "id": "b64dff17-bbdc-4715-87ba-a7dda155aca4",
   "metadata": {},
   "source": [
    "## put model on the mesh\n",
    "- use a dictionary to store our model vectors "
   ]
  },
  {
   "cell_type": "code",
   "execution_count": 11,
   "id": "45fad095-6158-45e9-980b-a4346e488881",
   "metadata": {},
   "outputs": [],
   "source": [
    "models = {}\n",
    "for sig in sigma_target:\n",
    "    \n",
    "    key = f\"sigma_{sig:1.0e}\"\n",
    "    \n",
    "    m = sigma_air * np.ones(mesh.n_cells)\n",
    "    m[mesh.cell_centers[:, 2] < 0] = 1./rho_back\n",
    "    \n",
    "    inds_target = (\n",
    "        (mesh.cell_centers[:, 0] < target_radius) &\n",
    "        (mesh.cell_centers[:, 2] < target_z.max()) &\n",
    "        (mesh.cell_centers[:, 2] > target_z.min()) \n",
    "    )\n",
    "    m[inds_target] = sig\n",
    "    models[key] = m\n",
    "model_keys = list(models.keys())"
   ]
  },
  {
   "cell_type": "code",
   "execution_count": 12,
   "id": "ad7ea248-d831-4ea9-adfb-a1b4d60c10de",
   "metadata": {},
   "outputs": [
    {
     "data": {
      "text/plain": [
       "['sigma_2e-03',\n",
       " 'sigma_1e+00',\n",
       " 'sigma_1e+01',\n",
       " 'sigma_1e+02',\n",
       " 'sigma_1e+03',\n",
       " 'sigma_1e+04']"
      ]
     },
     "execution_count": 12,
     "metadata": {},
     "output_type": "execute_result"
    }
   ],
   "source": [
    "model_keys"
   ]
  },
  {
   "cell_type": "code",
   "execution_count": 13,
   "id": "dcc52e88-846b-4c0e-8a99-deed524c06e6",
   "metadata": {},
   "outputs": [
    {
     "data": {
      "image/png": "[encoded data removed]",
      "text/plain": [
       "<Figure size 1800x200 with 12 Axes>"
      ]
     },
     "metadata": {},
     "output_type": "display_data"
    }
   ],
   "source": [
    "fig, ax = plt.subplots(1, len(models), figsize=(3*len(models), 2))\n",
    "\n",
    "xlim = 400*np.r_[-1, 1]\n",
    "zlim = np.r_[-500, 100]\n",
    "\n",
    "for i, key in enumerate(models.keys()):\n",
    "    plt.colorbar(mesh.plot_image(\n",
    "        models[key], ax=ax[i], \n",
    "        pcolor_opts={\"norm\":LogNorm(vmin=sigma_air, vmax=sigma_target.max()), \"cmap\":\"Spectral_r\"},\n",
    "        mirror=True\n",
    "    )[0], ax=ax[i])\n",
    "    ax[i].set_xlim(xlim)\n",
    "    ax[i].set_ylim(zlim)\n",
    "    ax[i].set_title(key)\n",
    "    \n",
    "plt.tight_layout()"
   ]
  },
  {
   "cell_type": "markdown",
   "id": "5b39ca3d-464a-444a-a335-10a29a3f059d",
   "metadata": {},
   "source": [
    "## set up the survey\n",
    "\n",
    "- central loop system, step-off waveform \n",
    "- look at $b_z$, $db_z/dt$"
   ]
  },
  {
   "cell_type": "code",
   "execution_count": 14,
   "id": "7c32e138-6cef-4b63-a427-93ec27bfa87e",
   "metadata": {},
   "outputs": [],
   "source": [
    "waveform=tdem.sources.StepOffWaveform()\n",
    "\n",
    "rx_dbdt = tdem.receivers.PointMagneticFluxTimeDerivative(\n",
    "    np.r_[0, 0, tx_height], times=rx_times, orientation=\"z\"\n",
    ")\n",
    "\n",
    "rx_b = tdem.receivers.PointMagneticFluxDensity(\n",
    "    np.r_[0, 0, tx_height], times=rx_times, orientation=\"z\"\n",
    ")\n",
    "\n",
    "src = tdem.sources.CircularLoop(\n",
    "    location=np.r_[0, 0, tx_height], radius=tx_radius, receiver_list=[rx_dbdt, rx_b], waveform=waveform\n",
    ")\n",
    "\n",
    "survey = tdem.Survey([src])"
   ]
  },
  {
   "cell_type": "markdown",
   "id": "5662918a-1875-423d-a8c1-f17a497bea1b",
   "metadata": {},
   "source": [
    "## set up the simulation \n",
    "- specify the time-steps at which the simulation is evaluated (this needs to be finer than our receiver measurement times) "
   ]
  },
  {
   "cell_type": "code",
   "execution_count": 15,
   "id": "c1ce7e00-9967-4809-8c61-f063f57893f4",
   "metadata": {},
   "outputs": [],
   "source": [
    "nsteps = 20\n",
    "time_steps = [\n",
    "    (1e-5, nsteps), (3e-5, nsteps), (1e-4, nsteps), (3e-4, nsteps+10)\n",
    "]"
   ]
  },
  {
   "cell_type": "code",
   "execution_count": 16,
   "id": "4d0d5f2e-7d12-4572-a661-1a74377a6fb9",
   "metadata": {},
   "outputs": [],
   "source": [
    "simulation = tdem.simulation.Simulation3DMagneticFluxDensity(\n",
    "    mesh=mesh, survey=survey, time_steps=time_steps, solver=Solver,\n",
    "    sigmaMap=maps.IdentityMap(mesh)\n",
    ")"
   ]
  },
  {
   "cell_type": "code",
   "execution_count": 17,
   "id": "8dead231-8e66-42af-95be-45aad0406491",
   "metadata": {},
   "outputs": [
    {
     "data": {
      "text/plain": [
       "(-0.02, 0.015)"
      ]
     },
     "execution_count": 17,
     "metadata": {},
     "output_type": "execute_result"
    },
    {
     "data": {
      "image/png": "[encoded data removed]",
      "text/plain": [
       "<Figure size 500x200 with 1 Axes>"
      ]
     },
     "metadata": {},
     "output_type": "display_data"
    }
   ],
   "source": [
    "fig, ax = plt.subplots(1, 1, figsize=(5, 2))\n",
    "\n",
    "ax.semilogx((rx_times)*1e3, np.zeros_like(rx_times), \"|k\", label=\"rx times\")\n",
    "ax.semilogx(simulation.times*1e3, -0.01*np.ones_like(simulation.times), \"|r\", label=\"simulation\")\n",
    "ax.legend()\n",
    "ax.set_xlabel(\"time (ms)\")\n",
    "ax.set_yticklabels(\"\")\n",
    "ax.set_ylim([-0.02, 0.015])"
   ]
  },
  {
   "cell_type": "markdown",
   "id": "9b6229a0-3db8-4d2f-acdc-8933c92b248c",
   "metadata": {},
   "source": [
    "## solve maxwell's equations \n",
    "- `fields` stores the computed fields at every timestep (we will use this for visualization)\n",
    "- `dpred` stores our predicted data as an object "
   ]
  },
  {
   "cell_type": "code",
   "execution_count": 18,
   "id": "26b78c3f-cae2-4634-86a7-17fabcab6392",
   "metadata": {},
   "outputs": [
    {
     "name": "stdout",
     "output_type": "stream",
     "text": [
      "done sigma_2e-03...  2.21e+00s\n",
      "done sigma_1e+00...  2.14e+00s\n",
      "done sigma_1e+01...  2.13e+00s\n",
      "done sigma_1e+02...  2.56e+00s\n",
      "done sigma_1e+03...  2.43e+00s\n",
      "done sigma_1e+04...  2.23e+00s\n"
     ]
    }
   ],
   "source": [
    "fields = {}\n",
    "dpred = {}\n",
    "\n",
    "for key, val in models.items():\n",
    "    t = time.time()\n",
    "    fields[key] = simulation.fields(val)\n",
    "    dpred[key] = simulation.make_synthetic_data(val, f=fields[key])\n",
    "    print(f\"done {key}... {time.time() - t: 1.2e}s\")"
   ]
  },
  {
   "cell_type": "code",
   "execution_count": 19,
   "id": "c8193ff8-2bb7-4ce6-ae27-5df3ce544c34",
   "metadata": {},
   "outputs": [],
   "source": [
    "def plot_data(keys_to_plot=list(dpred.keys()), rx_type=\"dbdt\", ax=None, difference=False): \n",
    "    \"\"\"\n",
    "    A function for plotting the data corresponding to the provided keys_to_plot\n",
    "    on a log-log plot \n",
    "    \"\"\"\n",
    "    if ax is None: \n",
    "        fig, ax = plt.subplots(1, 1)\n",
    "\n",
    "    if rx_type == \"dbdt\":\n",
    "        rx = rx_dbdt\n",
    "        ylabel = \"db/dt (V/m$^2$)\"\n",
    "    elif rx_type == \"b\": \n",
    "        rx = rx_b\n",
    "        ylabel = \"B (T)\"\n",
    "        \n",
    "    for i, key in enumerate(keys_to_plot):\n",
    "        val = dpred[key][src, rx]\n",
    "\n",
    "        if difference is True: \n",
    "            val = val - dpred[model_keys[0]][src, rx]\n",
    "            if key == model_keys[0]:\n",
    "                pass\n",
    "        \n",
    "        if key == model_keys[0]: \n",
    "            color = \"--k\"\n",
    "            label=\"background\"\n",
    "        else:\n",
    "            color_ind = model_keys.index(key) - 1\n",
    "            color = f\"C{i-1}\"\n",
    "            label = f\"{float(key.split('_')[-1]) * target_thickness:1.0f} S\"\n",
    "            \n",
    "        ax.loglog(rx_times*1e3, np.abs(val), color, label=label)\n",
    "    ax.legend()\n",
    "    ax.set_xlabel(\"time (ms)\")\n",
    "    ax.set_ylabel(ylabel)\n",
    "    ax.grid(alpha=0.7)\n",
    "    return ax"
   ]
  },
  {
   "cell_type": "code",
   "execution_count": 20,
   "id": "daa4e4e9-1052-4606-a1d0-d91660539210",
   "metadata": {},
   "outputs": [
    {
     "data": {
      "image/png": "[encoded data removed]",
      "text/plain": [
       "<Figure size 800x300 with 2 Axes>"
      ]
     },
     "metadata": {},
     "output_type": "display_data"
    }
   ],
   "source": [
    "fig, ax = plt.subplots(1, 2, figsize=(8, 3))\n",
    "\n",
    "plot_data(rx_type=\"dbdt\", ax=ax[0])\n",
    "plot_data(rx_type=\"b\", ax=ax[1])\n",
    "plt.tight_layout()"
   ]
  },
  {
   "cell_type": "markdown",
   "id": "dc2be310-1205-46cc-8735-062f8829eb3d",
   "metadata": {},
   "source": [
    "## plot the fields"
   ]
  },
  {
   "cell_type": "code",
   "execution_count": 21,
   "id": "b9fa8ce0-b74e-4e60-9059-ddb734eacd6d",
   "metadata": {},
   "outputs": [],
   "source": [
    "def plot_current_density(\n",
    "    key, time_ind, ax=None, xlim = 400*np.r_[-1, 1], zlim=np.r_[-500, 80],\n",
    "    colorbar=False, ylabels=True, vmax=None\n",
    "):\n",
    "    \"\"\"\n",
    "    A function for plotting the current density on a cyl mesh. This assumes the \"fields\" \n",
    "    are defined earlier as a dictionary and you are interested in plotting the current \n",
    "    density due to the model corresponding with the provided \"key\" at time ti. \n",
    "    \"\"\"\n",
    "    if ax is None: \n",
    "        fig, ax = plt.subplots(1, 1, figsize=(4, 4))\n",
    "    jplt = mesh.average_edge_y_to_cell * fields[key][:, \"j\", time_ind]\n",
    "    \n",
    "    if vmax is not None: \n",
    "        pcolor_opts={\"norm\":Normalize(vmin=-vmax, vmax=vmax), \"cmap\":\"coolwarm\"}\n",
    "    else: \n",
    "        pcolor_opts = {\"cmap\":\"coolwarm\"}\n",
    "    out = mesh.plot_image(\n",
    "        jplt, ax=ax, \n",
    "        mirror=True, mirror_data = -jplt,\n",
    "        pcolor_opts=pcolor_opts\n",
    "    )\n",
    "    \n",
    "    ax.plot(np.r_[0], tx_height, \"ko\", ms=2)\n",
    "    ax.set_xlim(xlim)\n",
    "    ax.set_ylim(zlim)\n",
    "    ax.set_aspect(1)\n",
    "    \n",
    "    if colorbar is True: \n",
    "        cb = plt.colorbar(out[0], ax=ax, orientation=\"horizontal\")\n",
    "        cb.set_label(\"current density\")\n",
    "    \n",
    "    if ylabels is False: \n",
    "        ax.set_ylabel(\"\")\n",
    "        ax.set_yticklabels(\"\")\n",
    "\n",
    "    return ax"
   ]
  },
  {
   "cell_type": "code",
   "execution_count": 22,
   "id": "aba01a43-0a5c-4d07-8306-7c014ad66588",
   "metadata": {},
   "outputs": [],
   "source": [
    "def plot_dbdt(\n",
    "    key, time_ind, field_type=\"dbdt\", ax=None, xlim=400*np.r_[-1, 1], zlim=np.r_[-500, 80],\n",
    "    colorbar=False, ylabels=True, vmax=None, vmin=None\n",
    "):\n",
    "    \"\"\"\n",
    "    A function for plotting the db/dt or b on a cyl mesh. This assumes the \"fields\" \n",
    "    are defined earlier as a dictionary and you are interested in plotting the current \n",
    "    density due to the model corresponding with the provided \"key\" at time index (time_ind). \n",
    "    \"\"\"\n",
    "    if ax is None: \n",
    "        fig, ax = plt.subplots(1, 1, figsize=(4, 4))\n",
    "    field_to_plot = fields[key][:, field_type, :]\n",
    "\n",
    "    if vmax is None: \n",
    "        vmax = 1e-3 * np.max(np.abs(field_to_plot))\n",
    "    if vmin is None: \n",
    "        if field_type == \"dbdt\":\n",
    "            vmin = 1e-9 * vmax\n",
    "        else: \n",
    "            vmin = 1e-6 * vmax\n",
    "    \n",
    "    dbdtplt = mesh.average_face_to_cell_vector * field_to_plot[:, time_ind]\n",
    "    out = mesh.plot_image(\n",
    "        dbdtplt, \"CCv\", view=\"vec\", ax=ax, \n",
    "        mirror=True,\n",
    "        pcolor_opts={\"norm\":LogNorm(vmin=vmin, vmax=vmax)},\n",
    "        range_x=xlim, \n",
    "        range_y=zlim,\n",
    "        stream_threshold=vmin\n",
    "    )\n",
    "    ax.plot(np.r_[0], tx_height, \"ko\", ms=2)\n",
    "    ax.set_xlim(xlim)\n",
    "    ax.set_ylim(zlim)\n",
    "    ax.set_aspect(1)\n",
    "    if ylabels is False: \n",
    "        ax.set_ylabel(\"\")\n",
    "        ax.set_yticklabels(\"\")\n",
    "    if colorbar is True: \n",
    "        cb = plt.colorbar(out[0], ax=ax, orientation=\"horizontal\")\n",
    "        cb.set_label(\"db/dt (V/m$^2$)\" if field_type==\"dbdt\" else \"B (T)\")\n",
    "    return ax"
   ]
  },
  {
   "cell_type": "code",
   "execution_count": 23,
   "id": "a616161d-e797-4562-b093-1ca2fec7922d",
   "metadata": {},
   "outputs": [],
   "source": [
    "def plot_fields_and_data(key, time_ind, field_type=\"dbdt\", xlim=400*np.r_[-1, 1], zlim=np.r_[-450, 50]):\n",
    "    \"\"\"\n",
    "    Function to plot the current density, magnetic field (db/dt or b) and data for a given model\n",
    "    (specified by the key) and a specific time index (time_ind). \n",
    "    \"\"\"\n",
    "    fig, ax = plt.subplots(1, 3, figsize=(12, 4))\n",
    "\n",
    "    t = simulation.times[time_ind]-waveform.off_time\n",
    "    if t*1e3 > 0.99: \n",
    "        time_label = f\"{t*1e3:1.1f} ms\"\n",
    "    else: \n",
    "        time_label = f\"{t*1e3:1.2f} ms\"\n",
    "        \n",
    "    fig.suptitle(f\"{float(key.split('_')[-1]) * target_thickness:1.0f} S target, t={time_label}\")\n",
    "                 \n",
    "    plot_current_density(key, time_ind, ax=ax[0], colorbar=True, xlim=xlim, zlim=zlim)\n",
    "    plot_dbdt(key, time_ind, field_type=field_type, ax=ax[1], colorbar=True, xlim=xlim, zlim=zlim)\n",
    "    plot_data([model_keys[0], key], rx_type=field_type, ax=ax[2])\n",
    "    if simulation.times[time_ind] > rx_times[0]: \n",
    "        ylim = ax[2].get_ylim()\n",
    "        ax[2].plot(1e3*simulation.times[time_ind]*np.r_[1, 1], ylim, \":k\")\n",
    "        ax[2].set_ylim(ylim)\n",
    "    plt.tight_layout()\n",
    "    "
   ]
  },
  {
   "cell_type": "code",
   "execution_count": 24,
   "id": "dfac1510-2baf-4715-9f57-3b383a4c9827",
   "metadata": {},
   "outputs": [
    {
     "data": {
      "application/vnd.jupyter.widget-view+json": {
       "model_id": "d4fb0802f21f4185899469a3af91f7b1",
       "version_major": 2,
       "version_minor": 0
      },
      "text/plain": [
       "interactive(children=(Dropdown(description='key', options=('sigma_2e-03', 'sigma_1e+00', 'sigma_1e+01', 'sigma…"
      ]
     },
     "metadata": {},
     "output_type": "display_data"
    },
    {
     "data": {
      "text/plain": [
       "<function __main__.plot_fields_and_data(key, time_ind, field_type='dbdt', xlim=array([-400,  400]), zlim=array([-450,   50]))>"
      ]
     },
     "execution_count": 24,
     "metadata": {},
     "output_type": "execute_result"
    }
   ],
   "source": [
    "ipywidgets.interact(\n",
    "    plot_fields_and_data, \n",
    "    key = model_keys, \n",
    "    field_type = ipywidgets.ToggleButtons(options=[\"dbdt\", \"b\"], value=\"b\"),\n",
    "    time_ind = ipywidgets.IntSlider(min=0, max=len(simulation.times)-1, value=0),\n",
    "    xlim=ipywidgets.fixed(400*np.r_[-1, 1]),\n",
    "    zlim=ipywidgets.fixed([-450, 50])\n",
    ")"
   ]
  },
  {
   "cell_type": "code",
   "execution_count": null,
   "id": "cf19710e-c549-4636-afe6-b435e024ecdf",
   "metadata": {},
   "outputs": [],
   "source": []
  }
 ],
 "metadata": {
  "kernelspec": {
   "display_name": "Python 3 (ipykernel)",
   "language": "python",
   "name": "python3"
  },
  "language_info": {
   "codemirror_mode": {
    "name": "ipython",
    "version": 3
   },
   "file_extension": ".py",
   "mimetype": "text/x-python",
   "name": "python",
   "nbconvert_exporter": "python",
   "pygments_lexer": "ipython3",
   "version": "3.11.10"
  }
 },
 "nbformat": 4,
 "nbformat_minor": 5
}
