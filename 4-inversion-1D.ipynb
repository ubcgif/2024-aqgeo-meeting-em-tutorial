{
 "cells": [
  {
   "cell_type": "code",
   "execution_count": 1,
   "id": "b548e105-3957-422a-a40d-c01dff54a068",
   "metadata": {
    "jupyter": {
     "source_hidden": true
    }
   },
   "outputs": [],
   "source": [
    "#\n",
    "import warnings \n",
    "warnings.filterwarnings(\"ignore\")"
   ]
  },
  {
   "cell_type": "markdown",
   "id": "dd52ea0b-53d3-456e-8f95-c8b21103e91c",
   "metadata": {},
   "source": [
    "# 1D inversion of AEM data over a layered Earth\n",
    "\n",
    "[![License: CC BY 4.0](https://licensebuttons.net/l/by/4.0/80x15.png)](https://creativecommons.org/licenses/by/4.0/)"
   ]
  },
  {
   "cell_type": "code",
   "execution_count": 2,
   "id": "b6d3cc68-8dc8-4514-850c-844bf1e034ee",
   "metadata": {},
   "outputs": [],
   "source": [
    "import numpy as np\n",
    "import matplotlib.pyplot as plt\n",
    "from matplotlib.colors import LogNorm, LinearSegmentedColormap, Normalize, SymLogNorm\n",
    "from matplotlib import cm as colormap\n",
    "import time\n",
    "import ipywidgets\n",
    "\n",
    "# SimPEG, discretize/\n",
    "import discretize\n",
    "from discretize import utils\n",
    "from simpeg.electromagnetics import time_domain as tdem\n",
    "from simpeg.utils import mkvc, plot_1d_layer_model\n",
    "from simpeg import (\n",
    "    maps,\n",
    "    data,\n",
    "    data_misfit,\n",
    "    inverse_problem,\n",
    "    regularization,\n",
    "    optimization,\n",
    "    directives,\n",
    "    inversion,\n",
    "    utils,\n",
    ")\n",
    "\n",
    "# solver \n",
    "from simpeg.utils.solver_utils import get_default_solver"
   ]
  },
  {
   "cell_type": "code",
   "execution_count": 3,
   "id": "2f019875-3a8a-4222-8776-deea769a2f5a",
   "metadata": {},
   "outputs": [],
   "source": [
    "Solver = get_default_solver()"
   ]
  },
  {
   "cell_type": "markdown",
   "id": "dffc99fa-b301-4885-add6-7a9c07082dd8",
   "metadata": {},
   "source": [
    "## define survey and model parameters"
   ]
  },
  {
   "cell_type": "code",
   "execution_count": 4,
   "id": "71a90664-6dcf-4ea8-9b00-7d95448f4695",
   "metadata": {},
   "outputs": [
    {
     "name": "stdout",
     "output_type": "stream",
     "text": [
      "target conductances: 4.0\n"
     ]
    }
   ],
   "source": [
    "# conductivity values\n",
    "rho_back = 100\n",
    "\n",
    "sigma_target = 0.1\n",
    "sigma_back = 1/rho_back\n",
    "\n",
    "# target geometry\n",
    "target_thickness = 40\n",
    "target_depth = 200 + target_thickness/2 * np.r_[-1, 1]\n",
    "\n",
    "print(f\"target conductances: {sigma_target * target_thickness}\")"
   ]
  },
  {
   "cell_type": "code",
   "execution_count": 5,
   "id": "8c61ebb0-f28a-4210-adef-80c14dd7caca",
   "metadata": {},
   "outputs": [],
   "source": [
    "# transmitter\n",
    "tx_height = 30\n",
    "tx_radius = 10\n",
    "\n",
    "# receiver times\n",
    "rx_times = 1e-3 * np.logspace(-1, 1, 30)  # 30 time-channels between 0.1ms and 10ms"
   ]
  },
  {
   "cell_type": "code",
   "execution_count": 6,
   "id": "0141b7b3-bb2d-4852-ac49-1215cb7648bb",
   "metadata": {},
   "outputs": [],
   "source": [
    "def diffusion_distance(sigma, t):\n",
    "    return 1260 * np.sqrt(t/sigma)"
   ]
  },
  {
   "cell_type": "code",
   "execution_count": 7,
   "id": "664bbcce-cf58-4297-8b16-d9bfe8c45ac6",
   "metadata": {},
   "outputs": [
    {
     "data": {
      "text/plain": [
       "np.float64(39.844698518121575)"
      ]
     },
     "execution_count": 7,
     "metadata": {},
     "output_type": "execute_result"
    }
   ],
   "source": [
    "# minimum diffusion distance (max conductivity, earliest time) \n",
    "diffusion_distance(sigma_target, rx_times.min())"
   ]
  },
  {
   "cell_type": "code",
   "execution_count": 8,
   "id": "7e152439-3e8a-491d-a155-cb5c1dbe66c8",
   "metadata": {},
   "outputs": [
    {
     "data": {
      "text/plain": [
       "np.float64(1260.0)"
      ]
     },
     "execution_count": 8,
     "metadata": {},
     "output_type": "execute_result"
    }
   ],
   "source": [
    "# maximum diffusion distance (background conductivity, latest time)\n",
    "diffusion_distance(sigma_back, rx_times.max())"
   ]
  },
  {
   "cell_type": "markdown",
   "id": "1aa57ae4-7c1c-4281-859d-d812223c40cf",
   "metadata": {},
   "source": [
    "## create our survey "
   ]
  },
  {
   "cell_type": "code",
   "execution_count": 9,
   "id": "b1c93a89-77e6-4f40-b257-8493ce672e7a",
   "metadata": {},
   "outputs": [],
   "source": [
    "rx_z = tdem.receivers.PointMagneticFluxTimeDerivative(\n",
    "    np.r_[0, 0, tx_height], times=rx_times, orientation=\"z\"\n",
    ")\n",
    "\n",
    "src = tdem.sources.CircularLoop(\n",
    "    location=np.r_[0, 0, tx_height], radius=tx_radius, receiver_list=[rx_z], #waveform=waveform\n",
    ")\n",
    "\n",
    "survey = tdem.Survey([src])"
   ]
  },
  {
   "cell_type": "markdown",
   "id": "14fb7bb3-aa8e-48f9-81e1-f45dddf561eb",
   "metadata": {},
   "source": [
    "## create our true model and data \n",
    "- construct a 3 layer model\n",
    "- run simulation to generate data for background, 3 layer model "
   ]
  },
  {
   "cell_type": "code",
   "execution_count": 10,
   "id": "e966bbd2-602d-41d9-9626-22f5f761cd58",
   "metadata": {},
   "outputs": [],
   "source": [
    "m_true = np.log(np.r_[sigma_back, sigma_target, sigma_back])\n",
    "thicknesses_true = np.r_[target_depth.min(), target_thickness]\n",
    "simulation_3layer = tdem.Simulation1DLayered(\n",
    "    survey=tdem.Survey([src]), thicknesses=thicknesses_true, sigmaMap=maps.ExpMap(nP=3)\n",
    ")"
   ]
  },
  {
   "cell_type": "code",
   "execution_count": 11,
   "id": "50171105-cccb-41e6-8aaf-7492b362fe54",
   "metadata": {},
   "outputs": [
    {
     "data": {
      "text/plain": [
       "(440.0, 0.0)"
      ]
     },
     "execution_count": 11,
     "metadata": {},
     "output_type": "execute_result"
    },
    {
     "data": {
      "image/png": "[encoded data removed]",
      "text/plain": [
       "<Figure size 200x400 with 1 Axes>"
      ]
     },
     "metadata": {},
     "output_type": "display_data"
    }
   ],
   "source": [
    "fig, ax = plt.subplots(1, 1, figsize=(2, 4))\n",
    "plot_1d_layer_model(thicknesses_true, np.exp(m_true), ax=ax)\n",
    "ax.grid()\n",
    "ax.set_xlim(0.5*sigma_back, 1.5*sigma_target)\n",
    "ax.set_ylim([target_depth.max()*2, 0])"
   ]
  },
  {
   "cell_type": "code",
   "execution_count": 12,
   "id": "3a2764a6-675b-4fd0-96bf-d93b23bb5bfd",
   "metadata": {},
   "outputs": [],
   "source": [
    "relative_error = 0.05\n",
    "d_background = simulation_3layer.dpred(np.log(sigma_back)*np.ones(3))\n",
    "d_true = simulation_3layer.dpred(m_true)\n",
    "d_noisy = d_true + relative_error*np.abs(d_true)*np.random.randn(len(d_true))\n",
    "dobs = d_noisy"
   ]
  },
  {
   "cell_type": "code",
   "execution_count": 13,
   "id": "a99251a9-8ef6-466b-9a45-4279762cbf26",
   "metadata": {},
   "outputs": [
    {
     "data": {
      "image/png": "[encoded data removed]",
      "text/plain": [
       "<Figure size 400x400 with 1 Axes>"
      ]
     },
     "metadata": {},
     "output_type": "display_data"
    }
   ],
   "source": [
    "fig, ax = plt.subplots(1, 1, figsize=(4, 4))\n",
    "ax.loglog(rx_times*1e3, -d_background, label=\"background\")\n",
    "ax.loglog(rx_times*1e3, -d_true, label=\"clean\")\n",
    "ax.loglog(rx_times*1e3, -d_noisy, \".\", label=\"dobs\")\n",
    "ax.set_xlabel(\"time (ms)\")\n",
    "ax.set_ylabel(\"db/dt\")\n",
    "ax.legend()\n",
    "ax.grid()"
   ]
  },
  {
   "cell_type": "markdown",
   "id": "e4f347b2-ca44-4fc4-9b96-ee6fd07ad73a",
   "metadata": {},
   "source": [
    "## define a 1D mesh for the inversion"
   ]
  },
  {
   "cell_type": "code",
   "execution_count": 14,
   "id": "0b8573ab-50be-4778-a7c4-cbf85ab74cad",
   "metadata": {},
   "outputs": [],
   "source": [
    "cell_size = 5\n",
    "layer_thicknesses = np.hstack([[cell_size]*int(300/cell_size), cell_size * np.logspace(0, 1.5, 20)])"
   ]
  },
  {
   "cell_type": "code",
   "execution_count": 15,
   "id": "589c7543-7c8c-4e14-bc3a-c6566ab3b5da",
   "metadata": {},
   "outputs": [],
   "source": [
    "# create a mesh with one extra layer so we can regularize the value that goes to \"infinite\" depth\n",
    "mesh = discretize.TensorMesh([(np.r_[layer_thicknesses, layer_thicknesses[-1]])], origin=\"0\")"
   ]
  },
  {
   "cell_type": "code",
   "execution_count": 16,
   "id": "d93e5521-76a2-4762-9adf-b156ca785080",
   "metadata": {},
   "outputs": [
    {
     "data": {
      "text/plain": [
       "Text(0.5, 0, 'depth (m)')"
      ]
     },
     "execution_count": 16,
     "metadata": {},
     "output_type": "execute_result"
    },
    {
     "data": {
      "image/png": "[encoded data removed]",
      "text/plain": [
       "<Figure size 800x200 with 1 Axes>"
      ]
     },
     "metadata": {},
     "output_type": "display_data"
    }
   ],
   "source": [
    "fig, ax = plt.subplots(1, 1, figsize=(8, 2))\n",
    "ax.plot(mesh.nodes, np.zeros_like(mesh.nodes), \"-|\")\n",
    "ax.plot(mesh.cell_centers, np.zeros_like(mesh.cell_centers), \"o\", ms=4)\n",
    "ax.set_xlim([-1, 500])\n",
    "ax.set_xlabel(\"depth (m)\")"
   ]
  },
  {
   "cell_type": "markdown",
   "id": "c845b471-4463-4af4-bde7-754f7f777c15",
   "metadata": {},
   "source": [
    "define the simulation for the inversion"
   ]
  },
  {
   "cell_type": "code",
   "execution_count": 17,
   "id": "3eb1fc77-6f03-488c-996c-0ae1591fb1bf",
   "metadata": {},
   "outputs": [],
   "source": [
    "simulation = tdem.Simulation1DLayered(\n",
    "    survey=survey, thicknesses=layer_thicknesses, sigmaMap=maps.ExpMap(mesh)  # invert for log conductivity\n",
    ")"
   ]
  },
  {
   "cell_type": "markdown",
   "id": "18ac0a37-2b04-43f5-9db6-798e2be77316",
   "metadata": {},
   "source": [
    "# set up the inversion"
   ]
  },
  {
   "cell_type": "code",
   "execution_count": 18,
   "id": "945b15c3-44af-4ced-b6b9-c4a13fb71394",
   "metadata": {},
   "outputs": [],
   "source": [
    "data_invert = data.Data(survey, dobs=dobs, relative_error=0.05)"
   ]
  },
  {
   "cell_type": "code",
   "execution_count": 19,
   "id": "772afb0e-0345-423c-850c-7c96208bd37b",
   "metadata": {},
   "outputs": [],
   "source": [
    "class SaveInversionProgress(directives.InversionDirective):\n",
    "    \"\"\"\n",
    "    A custom directive to save items of interest during the course of an inversion\n",
    "    \"\"\"\n",
    "    \n",
    "    def initialize(self):\n",
    "        \"\"\"\n",
    "        This is called when we first start running an inversion\n",
    "        \"\"\"\n",
    "        # initialize an empty dictionary for storing results \n",
    "        self.inversion_results = {\n",
    "            \"iteration\":[],\n",
    "            \"beta\":[],\n",
    "            \"phi_d\":[],\n",
    "            \"phi_m\":[],\n",
    "            \"phi_m_small\":[],\n",
    "            \"phi_m_smooth\":[],\n",
    "            \"dpred\":[],\n",
    "            \"model\":[]\n",
    "        }\n",
    "\n",
    "    def endIter(self):\n",
    "        \"\"\"\n",
    "        This is run at the end of every iteration. So here, we just append \n",
    "        the new values to our dictionary\n",
    "        \"\"\"\n",
    "        \n",
    "        # Save the data\n",
    "        self.inversion_results[\"iteration\"].append(self.opt.iter)\n",
    "        self.inversion_results[\"beta\"].append(self.invProb.beta)\n",
    "        self.inversion_results[\"phi_d\"].append(self.invProb.phi_d)\n",
    "        self.inversion_results[\"phi_m\"].append(self.invProb.phi_m)\n",
    "        self.inversion_results[\"dpred\"].append(self.invProb.dpred)\n",
    "        self.inversion_results[\"model\"].append(self.invProb.model)\n",
    "        \n",
    "        # grab the components of the regularization and evaluate them here\n",
    "        # the regularization has a list of objective functions  \n",
    "        # objfcts = [smallness, smoothness_x, smoothness_z]\n",
    "        # and the multipliers contain the alpha values\n",
    "        # multipliers = [alpha_s, alpha_x, alpha_z]\n",
    "        reg = self.reg.objfcts[0] \n",
    "        phi_s = reg.objfcts[0](self.invProb.model) * reg.multipliers[0]\n",
    "        phi_x = reg.objfcts[1](self.invProb.model) * reg.multipliers[1]\n",
    "        \n",
    "        self.inversion_results[\"phi_m_small\"].append(phi_s)\n",
    "        self.inversion_results[\"phi_m_smooth\"].append(phi_x)"
   ]
  },
  {
   "cell_type": "code",
   "execution_count": 20,
   "id": "c745b785-2979-47e7-a7d2-e3e6b1a3491c",
   "metadata": {},
   "outputs": [],
   "source": [
    "def setup_inversion(alpha_s=0.1, alpha_x=1): \n",
    "    \"\"\"\n",
    "    Simple, resable function for setting up inversions with different \n",
    "    choices of regularization parameters\n",
    "    \"\"\"\n",
    "    # define misfit and regularization \n",
    "    dmis = data_misfit.L2DataMisfit(simulation=simulation, data=data_invert)\n",
    "    reg = regularization.WeightedLeastSquares(\n",
    "        mesh, \n",
    "        alpha_s=alpha_s, alpha_x=alpha_x, \n",
    "        reference_model=np.log(sigma_back),\n",
    "    )\n",
    "\n",
    "    opt = optimization.InexactGaussNewton(maxIter=30, tolCG=1e-3)\n",
    "    inv_prob = inverse_problem.BaseInvProblem(dmis, reg, opt)\n",
    "    \n",
    "    # Defining a starting value for the trade-off parameter (beta) between the data\n",
    "    # misfit and the regularization.\n",
    "    starting_beta = directives.BetaEstimate_ByEig(beta0_ratio=10)\n",
    "    beta_cooling = directives.BetaSchedule(coolingRate=1, coolingFactor=1.5)\n",
    "\n",
    "    # Options for outputting recovered models and predicted data for each beta.\n",
    "    save_iteration = SaveInversionProgress()\n",
    "\n",
    "    # stop the inversion when we reach the target misfit -- here we overfit to explore models\n",
    "    target_misfit = directives.TargetMisfit(chifact=0.1)\n",
    "\n",
    "    # The directives are defined as a list.\n",
    "    directives_list = [\n",
    "        starting_beta,\n",
    "        beta_cooling,\n",
    "        target_misfit,\n",
    "        save_iteration,\n",
    "    ]\n",
    "    \n",
    "    # Here we combine the inverse problem and the set of directives\n",
    "    inv = inversion.BaseInversion(inv_prob, directives_list)\n",
    "    \n",
    "    return inv, save_iteration"
   ]
  },
  {
   "cell_type": "code",
   "execution_count": 21,
   "id": "1fd0097c-48ec-4f9e-88ea-bf5d518f0bf8",
   "metadata": {},
   "outputs": [],
   "source": [
    "# create the inversion object\n",
    "inv, save_iteration = setup_inversion(alpha_s=1/cell_size**2, alpha_x=1)\n"
   ]
  },
  {
   "cell_type": "code",
   "execution_count": 22,
   "id": "1d2ffcb2-b64a-4569-b0ed-22deaf2abc25",
   "metadata": {},
   "outputs": [
    {
     "name": "stdout",
     "output_type": "stream",
     "text": [
      "\n",
      "Running inversion with SimPEG v0.22.2.dev41+ge21040475\n",
      "\n",
      "                        simpeg.InvProblem is setting bfgsH0 to the inverse of the eval2Deriv.\n",
      "                        ***Done using same Solver, and solver_opts as the Simulation1DLayered problem***\n",
      "                        \n",
      "model has any nan: 0\n",
      "============================ Inexact Gauss Newton ============================\n",
      "  #     beta     phi_d     phi_m       f      |proj(x-g)-x|  LS    Comment   \n",
      "-----------------------------------------------------------------------------\n",
      "x0 has any nan: 0\n",
      "   0  7.11e+02  2.42e+03  4.95e-32  2.42e+03    4.53e+02      0              \n",
      "   1  4.74e+02  1.98e+03  2.60e-01  2.10e+03    1.97e+02      0              \n",
      "   2  3.16e+02  1.70e+03  6.86e-01  1.91e+03    1.82e+02      0   Skip BFGS  \n",
      "   3  2.11e+02  1.35e+03  1.47e+00  1.66e+03    1.88e+02      0   Skip BFGS  \n",
      "   4  1.40e+02  9.16e+02  2.86e+00  1.32e+03    1.89e+02      0              \n",
      "   5  9.36e+01  4.91e+02  4.80e+00  9.40e+02    1.65e+02      0              \n",
      "   6  6.24e+01  2.10e+02  6.61e+00  6.23e+02    1.11e+02      0              \n",
      "   7  4.16e+01  9.96e+01  7.62e+00  4.17e+02    6.92e+01      0              \n",
      "   8  2.77e+01  5.54e+01  8.04e+00  2.78e+02    4.24e+01      0              \n",
      "   9  1.85e+01  3.06e+01  8.27e+00  1.84e+02    3.41e+01      0              \n",
      "  10  1.23e+01  2.45e+01  8.12e+00  1.25e+02    3.02e+01      0   Skip BFGS  \n",
      "  11  8.22e+00  2.19e+01  8.07e+00  8.82e+01    2.44e+01      0   Skip BFGS  \n",
      "  12  5.48e+00  2.15e+01  7.98e+00  6.53e+01    1.17e+01      0   Skip BFGS  \n",
      "  13  3.65e+00  2.12e+01  7.99e+00  5.04e+01    2.58e+00      0   Skip BFGS  \n",
      "  14  2.44e+00  2.11e+01  7.97e+00  4.05e+01    6.82e+00      0   Skip BFGS  \n",
      "  15  1.62e+00  2.10e+01  7.97e+00  3.40e+01    1.27e+00      0              \n",
      "  16  1.08e+00  2.09e+01  7.97e+00  2.96e+01    6.18e+00      0              \n",
      "  17  7.22e-01  2.09e+01  7.97e+00  2.66e+01    4.11e+00      0              \n",
      "  18  4.81e-01  2.09e+01  7.98e+00  2.47e+01    1.69e+00      0   Skip BFGS  \n",
      "  19  3.21e-01  2.08e+01  8.01e+00  2.34e+01    3.97e+00      1   Skip BFGS  \n",
      "  20  2.14e-01  2.08e+01  8.04e+00  2.25e+01    2.02e+00      0              \n",
      "  21  1.43e-01  2.08e+01  8.04e+00  2.19e+01    8.06e-01      0              \n",
      "  22  9.50e-02  2.07e+01  8.17e+00  2.15e+01    4.39e+00      0   Skip BFGS  \n",
      "  23  6.34e-02  2.07e+01  8.14e+00  2.12e+01    2.97e+00      0              \n",
      "  24  4.22e-02  2.07e+01  8.50e+00  2.10e+01    1.86e+00      0              \n",
      "  25  2.82e-02  2.06e+01  8.83e+00  2.08e+01    3.23e+00      0              \n",
      "  26  1.88e-02  2.06e+01  9.03e+00  2.07e+01    9.03e+00      0   Skip BFGS  \n",
      "  27  1.25e-02  2.05e+01  9.23e+00  2.07e+01    4.40e+00      0              \n",
      "  28  8.34e-03  2.05e+01  1.03e+01  2.06e+01    5.29e+00      1   Skip BFGS  \n",
      "  29  5.56e-03  2.04e+01  1.10e+01  2.05e+01    2.86e+00      0              \n",
      "  30  3.71e-03  2.04e+01  1.15e+01  2.05e+01    3.13e+00      0   Skip BFGS  \n",
      "------------------------- STOP! -------------------------\n",
      "1 : |fc-fOld| = 3.5998e-02 <= tolF*(1+|f0|) = 2.4258e+02\n",
      "1 : |xc-x_last| = 2.0961e-01 <= tolX*(1+|x0|) = 4.2447e+00\n",
      "0 : |proj(x-g)-x|    = 3.1300e+00 <= tolG          = 1.0000e-01\n",
      "0 : |proj(x-g)-x|    = 3.1300e+00 <= 1e3*eps       = 1.0000e-02\n",
      "1 : maxIter   =      30    <= iter          =     30\n",
      "------------------------- DONE! -------------------------\n"
     ]
    }
   ],
   "source": [
    "# Run the inversion\n",
    "starting_model = np.log(sigma_back)*np.ones(mesh.n_cells)\n",
    "recovered_model = inv.run(starting_model)"
   ]
  },
  {
   "cell_type": "code",
   "execution_count": 23,
   "id": "8bf26a33-2ce4-43a6-ac1a-090f5985358f",
   "metadata": {},
   "outputs": [],
   "source": [
    "def plot_recovered_model(model, ax=None): \n",
    "    if ax is None: \n",
    "        fig, ax = plt.subplots(1, 1, figsize=(3, 5))\n",
    "\n",
    "    plot_1d_layer_model(simulation_3layer.thicknesses, np.exp(m_true), ax=ax, color=\"k\", label=\"True\")\n",
    "    plot_1d_layer_model(mesh.h[0], np.exp(model), ax=ax, label=\"Recovered\")\n",
    "    \n",
    "    ax.set_ylim([450, 0])\n",
    "    ax.set_xlim(sigma_back*0.5, sigma_target*2)\n",
    "    ax.grid(\"both\", alpha=0.7)\n",
    "    ax.legend()\n",
    "    \n",
    "    ax.set_xlabel(\"conductivity (S/m)\")"
   ]
  },
  {
   "cell_type": "code",
   "execution_count": 24,
   "id": "6860e317-5cc9-45f8-9344-72598f4930d2",
   "metadata": {},
   "outputs": [],
   "source": [
    "def plot_obs_pred_data(model, dpred, ax=None): \n",
    "    if ax is None: \n",
    "        fig, ax = plt.subplots(1, 1, figsize=(3.5, 3))\n",
    "\n",
    "    ax.loglog(rx_times*1e3, -dobs, \"ko\", label=\"dobs\", ms=4)\n",
    "    ax.loglog(rx_times*1e3, -dpred, label=\"Recovered\")\n",
    "    \n",
    "    ax.legend()\n",
    "    ax.grid(\"both\", alpha=0.7)\n",
    "    ax.set_xlabel(\"time (ms)\")\n",
    "    ax.set_ylabel(\"db/dt\")\n",
    "    return ax"
   ]
  },
  {
   "cell_type": "code",
   "execution_count": 25,
   "id": "cda26214-0b50-44af-8a8f-ec2492ccf0fb",
   "metadata": {},
   "outputs": [],
   "source": [
    "# model that reaches target misfit\n",
    "diff_from_target = save_iteration.inversion_results[\"phi_d\"] - survey.nD\n",
    "iter_target = np.where(diff_from_target == np.max(diff_from_target[diff_from_target < 0]))[0][0]"
   ]
  },
  {
   "cell_type": "code",
   "execution_count": 26,
   "id": "e8adc516-0e8c-4557-bda8-f39d166df0a6",
   "metadata": {},
   "outputs": [
    {
     "data": {
      "image/png": "[encoded data removed]",
      "text/plain": [
       "<Figure size 800x400 with 2 Axes>"
      ]
     },
     "metadata": {},
     "output_type": "display_data"
    }
   ],
   "source": [
    "fig, ax = plt.subplots(1, 2, figsize=(8, 4), gridspec_kw={\"width_ratios\":[1, 2]})\n",
    "plot_recovered_model(save_iteration.inversion_results[\"model\"][iter_target], ax=ax[0])\n",
    "plot_obs_pred_data(recovered_model, save_iteration.inversion_results[\"dpred\"][iter_target], ax=ax[1])\n",
    "plt.tight_layout()"
   ]
  },
  {
   "cell_type": "code",
   "execution_count": 27,
   "id": "05387d91-67fd-4eda-8367-b8f08c991d4b",
   "metadata": {},
   "outputs": [],
   "source": [
    "def plot_tikhonov_curves(inversion_results, iteration=None, ax=None, log=False):\n",
    "    if ax is None: \n",
    "        fig, ax = plt.subplots(1, 4, figsize=(10, 2.5), layout=\"constrained\")\n",
    "\n",
    "    ax[0].plot(inversion_results[\"iteration\"], inversion_results[\"beta\"], \"-o\", ms=4, color=\"C4\")\n",
    "    ax[0].set_title(\"$\\\\beta$\")\n",
    "    ax[0].set_ylabel(\"$\\\\beta$\")\n",
    "    if iteration is not None: \n",
    "        ax[0].plot(\n",
    "            inversion_results[\"iteration\"][iteration], inversion_results[\"beta\"][iteration], \"s\", ms=6, color=\"k\"\n",
    "        )   \n",
    "    \n",
    "    ax[1].plot(inversion_results[\"iteration\"], inversion_results[\"phi_d\"], \"-o\", ms=4, color=\"C3\")\n",
    "    ax[1].plot(inversion_results[\"iteration\"], survey.nD*np.ones_like(inversion_results[\"iteration\"]), \"--\", color=\"k\" )\n",
    "    ax[1].text(1, survey.nD*2, \"$\\phi_d^*$\")\n",
    "    ax[1].set_title(\"$\\phi_d$\")\n",
    "    ax[1].set_ylabel(\"$\\phi_d$\")\n",
    "    if iteration is not None: \n",
    "        ax[1].plot(\n",
    "            inversion_results[\"iteration\"][iteration], inversion_results[\"phi_d\"][iteration], \"s\", ms=6, color=\"k\",\n",
    "            label=f\"$\\chi={inversion_results['phi_d'][iteration] / len(rx_times):1.1f}$\"\n",
    "        )\n",
    "        ax[1].legend()\n",
    "    \n",
    "    ax[2].plot(inversion_results[\"iteration\"], inversion_results[\"phi_m\"], \"-o\", ms=4, label=\"$\\phi_m$\")\n",
    "    ax[2].plot(inversion_results[\"iteration\"], inversion_results[\"phi_m_small\"], \"-o\", ms=4, label=\"smallness\")\n",
    "    ax[2].plot(inversion_results[\"iteration\"], inversion_results[\"phi_m_smooth\"], \"-o\", ms=4, label=\"smoothness\")\n",
    "    ax[2].set_title(\"$\\phi_m$\")\n",
    "    ax[2].set_ylabel(\"$\\phi_m$\")\n",
    "    ax[2].legend()\n",
    "    if iteration is not None: \n",
    "        ax[2].plot(\n",
    "            inversion_results[\"iteration\"][iteration], inversion_results[\"phi_m\"][iteration], \"s\", ms=6, color=\"k\"\n",
    "        )\n",
    "        ax[2].plot(\n",
    "            inversion_results[\"iteration\"][iteration], inversion_results[\"phi_m_small\"][iteration], \"s\", ms=6, color=\"k\"\n",
    "        )\n",
    "        ax[2].plot(\n",
    "            inversion_results[\"iteration\"][iteration], inversion_results[\"phi_m_smooth\"][iteration], \"s\", ms=6, color=\"k\"\n",
    "        )\n",
    "    \n",
    "    for a in ax[:3]:\n",
    "        a.set_xlabel(\"iteration\")\n",
    "        xticks = inversion_results[\"iteration\"]\n",
    "        while len(xticks) > 10: \n",
    "            xticks = xticks[::2]\n",
    "        a.set_xticks(xticks)\n",
    "    \n",
    "    ax[3].plot(inversion_results[\"phi_m\"], inversion_results[\"phi_d\"],  \"-o\", ms=4, color=\"k\")\n",
    "    ax[3].plot(inversion_results[\"phi_m\"], survey.nD*np.ones_like(inversion_results[\"iteration\"]), \"--\", color=\"k\" )\n",
    "    ax[3].text(inversion_results[\"phi_m\"][0], survey.nD*2, \"$\\phi_d^*$\")\n",
    "    ax[3].set_xlabel(\"$\\phi_m$\")\n",
    "    ax[3].set_ylabel(\"$\\phi_d$\")\n",
    "    ax[3].set_title(\"$\\phi_d$ vs. $\\phi_m$\")\n",
    "    if iteration is not None: \n",
    "        ax[3].plot(\n",
    "            inversion_results[\"phi_m\"][iteration], inversion_results[\"phi_d\"][iteration], \"s\", ms=6, color=\"k\"\n",
    "        )\n",
    "\n",
    "    if log is True: \n",
    "        for a in ax:\n",
    "            a.set_yscale('log')\n",
    "        ax[3].set_xscale('log')\n",
    "    \n",
    "    # plt.tight_layout()\n",
    "    return ax"
   ]
  },
  {
   "cell_type": "code",
   "execution_count": 28,
   "id": "c8f0b27a-5874-4ec4-b985-49a85f02ae8f",
   "metadata": {},
   "outputs": [],
   "source": [
    "# plot_tikhonov_curves(save_iteration.inversion_results, iteration=iter_target, log=False);"
   ]
  },
  {
   "cell_type": "code",
   "execution_count": 29,
   "id": "2f95c790-2d75-4778-b727-8fbc8bbc043a",
   "metadata": {},
   "outputs": [],
   "source": [
    "def plot_inversion_results_by_iteration(iteration, log=False):\n",
    "    fig, axd = plt.subplot_mosaic(\n",
    "        [['a', 'b', 'c', 'd'],\n",
    "         ['e', 'f', 'f', 'g']],\n",
    "        figsize=(10, 6), layout=\"constrained\",\n",
    "        gridspec_kw={\"height_ratios\": [1, 2]}\n",
    "    )\n",
    "    \n",
    "    ax_tikhonov = plot_tikhonov_curves(\n",
    "        save_iteration.inversion_results, iteration, ax=[axd[k] for k in [\"a\", \"b\", \"c\", \"d\"]], log=log\n",
    "    )\n",
    "    \n",
    "    plot_recovered_model(save_iteration.inversion_results[\"model\"][iteration], ax=axd[\"e\"])\n",
    "    plot_obs_pred_data(recovered_model, save_iteration.inversion_results[\"dpred\"][iteration], ax=axd[\"f\"])\n",
    "\n",
    "    axd[\"g\"].axis(\"off\")\n",
    "    # plt.tight_layout()"
   ]
  },
  {
   "cell_type": "code",
   "execution_count": 30,
   "id": "2ae2acb9-5bb7-4775-9935-45bf706227a6",
   "metadata": {},
   "outputs": [
    {
     "data": {
      "application/vnd.jupyter.widget-view+json": {
       "model_id": "13587459dfba4a27a4d65e4bb2778ca1",
       "version_major": 2,
       "version_minor": 0
      },
      "text/plain": [
       "interactive(children=(IntSlider(value=0, description='iteration', max=29), Checkbox(value=False, description='…"
      ]
     },
     "metadata": {},
     "output_type": "display_data"
    },
    {
     "data": {
      "text/plain": [
       "<function __main__.plot_inversion_results_by_iteration(iteration, log=False)>"
      ]
     },
     "execution_count": 30,
     "metadata": {},
     "output_type": "execute_result"
    }
   ],
   "source": [
    "ipywidgets.interact(\n",
    "    plot_inversion_results_by_iteration, \n",
    "    iteration=ipywidgets.IntSlider(min=0, max=save_iteration.inversion_results[\"iteration\"][-2], value=0)\n",
    ")"
   ]
  },
  {
   "cell_type": "code",
   "execution_count": null,
   "id": "7bcc2de7-f951-41ef-a8fe-c82b006bf2df",
   "metadata": {},
   "outputs": [],
   "source": []
  }
 ],
 "metadata": {
  "kernelspec": {
   "display_name": "Python 3 (ipykernel)",
   "language": "python",
   "name": "python3"
  },
  "language_info": {
   "codemirror_mode": {
    "name": "ipython",
    "version": 3
   },
   "file_extension": ".py",
   "mimetype": "text/x-python",
   "name": "python",
   "nbconvert_exporter": "python",
   "pygments_lexer": "ipython3",
   "version": "3.11.10"
  }
 },
 "nbformat": 4,
 "nbformat_minor": 5
}
